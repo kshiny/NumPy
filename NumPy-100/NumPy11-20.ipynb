{
  "nbformat": 4,
  "nbformat_minor": 0,
  "metadata": {
    "colab": {
      "name": "NumPy | 11-20",
      "provenance": []
    },
    "kernelspec": {
      "name": "python3",
      "display_name": "Python 3"
    },
    "language_info": {
      "name": "python"
    }
  },
  "cells": [
    {
      "cell_type": "markdown",
      "source": [
        "## ✅ Solving the questions 15, 16, 18, 19, 20 again.\n",
        "\n",
        "---"
      ],
      "metadata": {
        "id": "3uHxcK0bH_LB"
      }
    },
    {
      "cell_type": "code",
      "source": [
        "import numpy as np"
      ],
      "metadata": {
        "id": "G-cdOfyPOJky"
      },
      "execution_count": 2,
      "outputs": []
    },
    {
      "cell_type": "markdown",
      "source": [
        ""
      ],
      "metadata": {
        "id": "Ds6WFtbPs6TT"
      }
    },
    {
      "cell_type": "markdown",
      "source": [
        "### 11. Create a 3x3 identity matrix (★☆☆)\n",
        "\n",
        "* 선형대수학에서, 단위 행렬(unit matrix) 또는 항등 행렬(identity matrix)은 주대각선의 원소가 모두 1이며 나머지 원소는 모두 0인 정사각 행렬이다.\n",
        "* np.eye() : 단위행렬 생성"
      ],
      "metadata": {
        "id": "L8zcEfoqIEB4"
      }
    },
    {
      "cell_type": "code",
      "source": [
        "a = np.eye(3)\n",
        "print(a)"
      ],
      "metadata": {
        "colab": {
          "base_uri": "https://localhost:8080/"
        },
        "id": "3gDA2LEwN0TU",
        "outputId": "37b51149-0ed7-4f40-a4ac-b67e04193ce0"
      },
      "execution_count": 3,
      "outputs": [
        {
          "output_type": "stream",
          "name": "stdout",
          "text": [
            "[[1. 0. 0.]\n",
            " [0. 1. 0.]\n",
            " [0. 0. 1.]]\n"
          ]
        }
      ]
    },
    {
      "cell_type": "markdown",
      "source": [
        "### 12. Create a 3x3x3 array with random values (★☆☆)\n",
        "\n",
        "* np.random.rand() : 0~1 사이의 값의 uniform distribution 균일 분포, 균등 분포라고 불리는 값을 return 하는 함수이다.\n",
        "* np.random.randn() : Normal(Gaussian) Distribution 정규 분포, 가우시안 분포라고 불리는 값을 return 하는 함수이다. 대체로 -1~1 사이의 값을 얻는다.\n",
        "* numpy.random.randint : 정수 값만을 return 하는 함수이다.\n",
        "* numpy.random.random : 앞의 np.random.rand와 비슷한 형태로, 다른 점은 1에서 설명한 것은 0~1 사이이지만 여기서는 0~1보다 작은 값의 범주라는 것이다.\n"
      ],
      "metadata": {
        "id": "CLf6I0_NJx_8"
      }
    },
    {
      "cell_type": "code",
      "source": [
        "a = np.random.random((3,3,3))\n",
        "print(a)"
      ],
      "metadata": {
        "colab": {
          "base_uri": "https://localhost:8080/"
        },
        "id": "J9Pbnr3tN0qy",
        "outputId": "fd90b06c-48a7-4254-e304-9633508b49b8"
      },
      "execution_count": 4,
      "outputs": [
        {
          "output_type": "stream",
          "name": "stdout",
          "text": [
            "[[[0.72391861 0.99581624 0.3699219 ]\n",
            "  [0.06071824 0.68216684 0.9214064 ]\n",
            "  [0.81209836 0.05267265 0.19476124]]\n",
            "\n",
            " [[0.77628987 0.79543112 0.71434767]\n",
            "  [0.22370147 0.58362045 0.42540812]\n",
            "  [0.26528494 0.44866384 0.2503628 ]]\n",
            "\n",
            " [[0.04824435 0.86479481 0.06761276]\n",
            "  [0.17869232 0.61691762 0.83878104]\n",
            "  [0.24650087 0.87690933 0.61289584]]]\n"
          ]
        }
      ]
    },
    {
      "cell_type": "markdown",
      "source": [
        "### 13. Create a 10x10 array with random values and find the minimum and maximum values (★☆☆)"
      ],
      "metadata": {
        "id": "4ims4WpDJ6qF"
      }
    },
    {
      "cell_type": "code",
      "source": [
        "a = np.random.random((10, 10))\n",
        "print(a)\n",
        "amin, amax = a.min(), a.max()\n",
        "print(amin, amax)"
      ],
      "metadata": {
        "colab": {
          "base_uri": "https://localhost:8080/"
        },
        "id": "-7qdD7cwN2a0",
        "outputId": "0e1dbe63-b8ec-4ecf-d5e7-92b067ec1a77"
      },
      "execution_count": 5,
      "outputs": [
        {
          "output_type": "stream",
          "name": "stdout",
          "text": [
            "[[0.00601844 0.95230693 0.46261641 0.0057961  0.3284472  0.91065522\n",
            "  0.34072436 0.06102944 0.71657397 0.06085212]\n",
            " [0.18229927 0.66524894 0.49159615 0.00961391 0.70040899 0.36282981\n",
            "  0.24027482 0.18643571 0.52922237 0.86804682]\n",
            " [0.5151428  0.95797231 0.09160675 0.17041426 0.27224489 0.22024228\n",
            "  0.47151242 0.50317004 0.19407148 0.07851593]\n",
            " [0.70580759 0.10670928 0.59010323 0.1679032  0.15085938 0.19672374\n",
            "  0.78188615 0.52236558 0.68300509 0.26854296]\n",
            " [0.31381212 0.90851331 0.39469075 0.36379182 0.24735614 0.7536487\n",
            "  0.97584938 0.12599734 0.24441807 0.88802013]\n",
            " [0.52314253 0.61918139 0.31262377 0.77909851 0.814089   0.7591442\n",
            "  0.55642489 0.37841564 0.45520685 0.68579988]\n",
            " [0.24532033 0.06273532 0.92172583 0.45823468 0.59548371 0.18847216\n",
            "  0.49281447 0.9873459  0.75831271 0.51792747]\n",
            " [0.84438448 0.87980263 0.06640663 0.70048814 0.51500977 0.45741933\n",
            "  0.07183022 0.86812516 0.25435606 0.67949742]\n",
            " [0.95645258 0.70192326 0.86580779 0.36449966 0.86955696 0.45424544\n",
            "  0.33930964 0.19458775 0.39292023 0.65783932]\n",
            " [0.21603806 0.09083039 0.44357548 0.09746931 0.3172188  0.18745257\n",
            "  0.14351574 0.83611742 0.82965419 0.24277961]]\n",
            "0.005796101556238553 0.9873458989827555\n"
          ]
        }
      ]
    },
    {
      "cell_type": "markdown",
      "source": [
        "### 14. Create a random vector of size 30 and find the mean value (★☆☆)"
      ],
      "metadata": {
        "id": "b6o5r915J6sJ"
      }
    },
    {
      "cell_type": "code",
      "source": [
        "a = np.random.random(30)\n",
        "m = a.mean()\n",
        "print(m)"
      ],
      "metadata": {
        "colab": {
          "base_uri": "https://localhost:8080/"
        },
        "id": "f1pHu1QEN3Ck",
        "outputId": "11ab74dc-3c24-4c18-fb8a-287c0faaced1"
      },
      "execution_count": 6,
      "outputs": [
        {
          "output_type": "stream",
          "name": "stdout",
          "text": [
            "0.5678438027278451\n"
          ]
        }
      ]
    },
    {
      "cell_type": "markdown",
      "source": [
        "### 15. Create a 2d array with 1 on the border and 0 inside (★☆☆)"
      ],
      "metadata": {
        "id": "l2okRigsJ6wt"
      }
    },
    {
      "cell_type": "code",
      "source": [
        "a = np.ones((10, 10))\n",
        "a[1:-1, 1:-1] = 0\n",
        "print(a)"
      ],
      "metadata": {
        "colab": {
          "base_uri": "https://localhost:8080/"
        },
        "id": "lgI7shCBN4HY",
        "outputId": "6b4d34f6-1d83-4362-ff94-4bbc758a8cf9"
      },
      "execution_count": 7,
      "outputs": [
        {
          "output_type": "stream",
          "name": "stdout",
          "text": [
            "[[1. 1. 1. 1. 1. 1. 1. 1. 1. 1.]\n",
            " [1. 0. 0. 0. 0. 0. 0. 0. 0. 1.]\n",
            " [1. 0. 0. 0. 0. 0. 0. 0. 0. 1.]\n",
            " [1. 0. 0. 0. 0. 0. 0. 0. 0. 1.]\n",
            " [1. 0. 0. 0. 0. 0. 0. 0. 0. 1.]\n",
            " [1. 0. 0. 0. 0. 0. 0. 0. 0. 1.]\n",
            " [1. 0. 0. 0. 0. 0. 0. 0. 0. 1.]\n",
            " [1. 0. 0. 0. 0. 0. 0. 0. 0. 1.]\n",
            " [1. 0. 0. 0. 0. 0. 0. 0. 0. 1.]\n",
            " [1. 1. 1. 1. 1. 1. 1. 1. 1. 1.]]\n"
          ]
        }
      ]
    },
    {
      "cell_type": "markdown",
      "source": [
        "### 16. How to add a border (filled with 0's) around an existing array? (★☆☆)\n",
        "\n",
        "* np.pad() 함수를 사용하여 배열(array)을 특정 형상의 배열로 변형할 때 빈자리를 '0'으로 채우기\n",
        "* np.pad(array, pad_width, mode='constant', **kwargs)\n",
        "* pad_width : 위의 행 1개, 왼쪽 열 1개 추가, 아래 행 1개 추가, 오른쪽 열 1개 추가\n",
        "* constant_values : '0' 대신에 원하는 다른 특정 상수 값으로 빈 자리를 채워넣을 수 있다."
      ],
      "metadata": {
        "id": "uo0ZFFvBJ6yt"
      }
    },
    {
      "cell_type": "code",
      "source": [
        "a = np.ones((5, 5))\n",
        "a = np.pad(a, pad_width=1, mode='constant', constant_values=0)\n",
        "print(a)"
      ],
      "metadata": {
        "id": "eOEZ_m-oN4jr",
        "colab": {
          "base_uri": "https://localhost:8080/"
        },
        "outputId": "fea26aa7-bd23-47e7-ef93-e63f6d89a07b"
      },
      "execution_count": 8,
      "outputs": [
        {
          "output_type": "stream",
          "name": "stdout",
          "text": [
            "[[0. 0. 0. 0. 0. 0. 0.]\n",
            " [0. 1. 1. 1. 1. 1. 0.]\n",
            " [0. 1. 1. 1. 1. 1. 0.]\n",
            " [0. 1. 1. 1. 1. 1. 0.]\n",
            " [0. 1. 1. 1. 1. 1. 0.]\n",
            " [0. 1. 1. 1. 1. 1. 0.]\n",
            " [0. 0. 0. 0. 0. 0. 0.]]\n"
          ]
        }
      ]
    },
    {
      "cell_type": "markdown",
      "source": [
        "### 17. What is the result of the following expression? (★☆☆)\n",
        "\n",
        "* nan은 '정의되지 않은 수'이기 때문에 비교하거나 연산할 수 없다.\n",
        "* np.nan은 np.nan의 집합 내에 속한다.\n",
        "* 3 * 0.1 = 0.300000000004로 출력된다. 부동소수점에 의한 오차를 나타낸다."
      ],
      "metadata": {
        "id": "kzQ3Q1KGJ601"
      }
    },
    {
      "cell_type": "code",
      "source": [
        "0 * np.nan # nan\n",
        "np.nan == np.nan # False\n",
        "np.inf > np.nan # False\n",
        "np.nan - np.nan # nan\n",
        "np.nan in set([np.nan]) # True\n",
        "0.3 == 3 * 0.1 #False"
      ],
      "metadata": {
        "id": "EWZg6BQgN6FZ",
        "colab": {
          "base_uri": "https://localhost:8080/"
        },
        "outputId": "48f26614-da8c-4801-cb25-50d390c7a5fb"
      },
      "execution_count": 9,
      "outputs": [
        {
          "output_type": "execute_result",
          "data": {
            "text/plain": [
              "False"
            ]
          },
          "metadata": {},
          "execution_count": 9
        }
      ]
    },
    {
      "cell_type": "markdown",
      "source": [
        "### 18. Create a 5x5 matrix with values 1,2,3,4 just below the diagonal (★☆☆)\n",
        "\n",
        "* np.diag()은 주어진 원소로 대각행렬을 만들어 준다. k를 기준으로 대각선 아래/위에 삽입 가능"
      ],
      "metadata": {
        "id": "i6Fl91fpM1Ow"
      }
    },
    {
      "cell_type": "code",
      "source": [
        "a = np.diag(1+np.arange(4), k=-1) # np.arage(4) : 0부터 3까지이기 때문에 1을 더함\n",
        "print(a)"
      ],
      "metadata": {
        "id": "3ZrNyZhUN64_",
        "colab": {
          "base_uri": "https://localhost:8080/"
        },
        "outputId": "48c2015b-7300-4776-e82d-b0b36d3109d5"
      },
      "execution_count": 16,
      "outputs": [
        {
          "output_type": "stream",
          "name": "stdout",
          "text": [
            "[[0 0 0 0 0]\n",
            " [1 0 0 0 0]\n",
            " [0 2 0 0 0]\n",
            " [0 0 3 0 0]\n",
            " [0 0 0 4 0]]\n"
          ]
        }
      ]
    },
    {
      "cell_type": "code",
      "source": [
        "a = np.diag([1,2,3,4], k=-1)\n",
        "print(a)"
      ],
      "metadata": {
        "colab": {
          "base_uri": "https://localhost:8080/"
        },
        "id": "PhIQAoAwwhqj",
        "outputId": "15419a2e-ea60-4e92-bfd3-67f266e170c7"
      },
      "execution_count": 18,
      "outputs": [
        {
          "output_type": "stream",
          "name": "stdout",
          "text": [
            "[[0 0 0 0 0]\n",
            " [1 0 0 0 0]\n",
            " [0 2 0 0 0]\n",
            " [0 0 3 0 0]\n",
            " [0 0 0 4 0]]\n"
          ]
        }
      ]
    },
    {
      "cell_type": "markdown",
      "source": [
        "### 19. Create a 8x8 matrix and fill it with a checkerboard pattern (★☆☆)"
      ],
      "metadata": {
        "id": "y-pse-BIJ62n"
      }
    },
    {
      "cell_type": "code",
      "source": [
        "a = np.zeros((8,8))\n",
        "a[1::2, ::2] = 1\n",
        "a[::2, 1::2] = 1\n",
        "print(a)"
      ],
      "metadata": {
        "id": "_uhZ8c0RN7TP",
        "colab": {
          "base_uri": "https://localhost:8080/"
        },
        "outputId": "2c27852e-5cea-4e9f-f3e9-382994d85cc1"
      },
      "execution_count": 26,
      "outputs": [
        {
          "output_type": "stream",
          "name": "stdout",
          "text": [
            "[[0. 1. 0. 1. 0. 1. 0. 1.]\n",
            " [1. 0. 1. 0. 1. 0. 1. 0.]\n",
            " [0. 1. 0. 1. 0. 1. 0. 1.]\n",
            " [1. 0. 1. 0. 1. 0. 1. 0.]\n",
            " [0. 1. 0. 1. 0. 1. 0. 1.]\n",
            " [1. 0. 1. 0. 1. 0. 1. 0.]\n",
            " [0. 1. 0. 1. 0. 1. 0. 1.]\n",
            " [1. 0. 1. 0. 1. 0. 1. 0.]]\n"
          ]
        }
      ]
    },
    {
      "cell_type": "markdown",
      "source": [
        ""
      ],
      "metadata": {
        "id": "0tdw1HG2vfYX"
      }
    },
    {
      "cell_type": "markdown",
      "source": [
        "### 20. Consider a (6,7,8) shape array, what is the index (x,y,z) of the 100th element? (★☆☆)\n",
        "* np.unravel_index : 플랫 인덱스 또는 플랫 인덱스 배열을 튜플 좌표 배열로 변환한다."
      ],
      "metadata": {
        "id": "e5ocszJgM909"
      }
    },
    {
      "cell_type": "code",
      "source": [
        "a = np.unravel_index(99, (6,7,8))\n",
        "print(a)"
      ],
      "metadata": {
        "id": "3dK-leu6N7y5",
        "colab": {
          "base_uri": "https://localhost:8080/"
        },
        "outputId": "19eb9866-c454-4d73-8634-1d70167dd6a9"
      },
      "execution_count": 28,
      "outputs": [
        {
          "output_type": "stream",
          "name": "stdout",
          "text": [
            "(1, 5, 3)\n"
          ]
        }
      ]
    }
  ]
}