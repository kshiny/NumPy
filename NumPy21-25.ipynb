{
  "nbformat": 4,
  "nbformat_minor": 0,
  "metadata": {
    "colab": {
      "name": "NumPy | 21-25",
      "provenance": [],
      "authorship_tag": "ABX9TyP2aMJQqISMln0IzvMDE2N6",
      "include_colab_link": true
    },
    "kernelspec": {
      "name": "python3",
      "display_name": "Python 3"
    },
    "language_info": {
      "name": "python"
    }
  },
  "cells": [
    {
      "cell_type": "markdown",
      "metadata": {
        "id": "view-in-github",
        "colab_type": "text"
      },
      "source": [
        "<a href=\"https://colab.research.google.com/github/kshiny/NumPy/blob/main/NumPy21-25.ipynb\" target=\"_parent\"><img src=\"https://colab.research.google.com/assets/colab-badge.svg\" alt=\"Open In Colab\"/></a>"
      ]
    },
    {
      "cell_type": "markdown",
      "source": [
        "## ✅ Solving the questions 21, 22, 24, 25 again.\n",
        "\n",
        "---"
      ],
      "metadata": {
        "id": "8MHLjNHk8lpa"
      }
    },
    {
      "cell_type": "code",
      "source": [
        "import numpy as np"
      ],
      "metadata": {
        "id": "wtnTLYQA9Nbj"
      },
      "execution_count": 1,
      "outputs": []
    },
    {
      "cell_type": "markdown",
      "source": [
        "### 21. Create a checkerboard 8x8 matrix using the tile function (★☆☆)\n",
        "\n",
        "* np.tile(arr, reps) : 배열을 반복하면서 새로운 축을 추가하기"
      ],
      "metadata": {
        "id": "OQ6SW3-c8hsB"
      }
    },
    {
      "cell_type": "code",
      "source": [
        "a = np.tile(np.array([[0,1],[1,0]]), (4,4))\n",
        "print(a)"
      ],
      "metadata": {
        "colab": {
          "base_uri": "https://localhost:8080/"
        },
        "id": "8zRnnLb78_3n",
        "outputId": "783158ed-c20e-4a68-df90-5850aa57c52b"
      },
      "execution_count": 7,
      "outputs": [
        {
          "output_type": "stream",
          "name": "stdout",
          "text": [
            "[[0 1 0 1 0 1 0 1]\n",
            " [1 0 1 0 1 0 1 0]\n",
            " [0 1 0 1 0 1 0 1]\n",
            " [1 0 1 0 1 0 1 0]\n",
            " [0 1 0 1 0 1 0 1]\n",
            " [1 0 1 0 1 0 1 0]\n",
            " [0 1 0 1 0 1 0 1]\n",
            " [1 0 1 0 1 0 1 0]]\n"
          ]
        }
      ]
    },
    {
      "cell_type": "markdown",
      "source": [
        "### 22. Normalize a 5x5 random matrix (★☆☆)\n",
        "\n",
        "\n",
        "* 변수들 간의 척도가 서로 다른 경우 직접적으로 상호 비교를 할 수가 없다.\n",
        "    * 모델링 작업에 들어가기 전에 변수들 간의 척도가 다른 경우 보통 표준화를 진행한다.\n",
        "* NumPy를 이용한 표준화 : z = (x-mean())/std()"
      ],
      "metadata": {
        "id": "1b38mtz28lxk"
      }
    },
    {
      "cell_type": "code",
      "source": [
        "a = np.random.random((5,5))\n",
        "a = (a-np.mean(a)) / (np.std(a))\n",
        "print(a)"
      ],
      "metadata": {
        "colab": {
          "base_uri": "https://localhost:8080/"
        },
        "id": "HLCNMddT9AQ4",
        "outputId": "2bcad1d6-a11d-40a0-dd94-10a60906b963"
      },
      "execution_count": 11,
      "outputs": [
        {
          "output_type": "stream",
          "name": "stdout",
          "text": [
            "[[ 0.80619947 -2.23706714 -0.59777222 -0.57729837 -0.9329623 ]\n",
            " [ 0.35283253 -0.80939086  0.77874083 -0.30035233  0.93686203]\n",
            " [-0.11414231 -1.94121809 -1.10400553  1.48993695  0.52263795]\n",
            " [ 0.33462127  0.51723817  0.8487995   1.14435506  1.17660042]\n",
            " [-1.67102657  0.47745922  0.59801794 -0.4496291   0.75056349]]\n"
          ]
        }
      ]
    },
    {
      "cell_type": "markdown",
      "source": [
        "### 23. Create a custom dtype that describes a color as four unsigned bytes (RGBA) (★☆☆)"
      ],
      "metadata": {
        "id": "rTP3qKxX8l1i"
      }
    },
    {
      "cell_type": "code",
      "source": [
        "color = np.dtype([(\"r\", np.ubyte, 1),\n",
        "                  (\"g\", np.ubyte, 1),\n",
        "                  (\"b\", np.ubyte, 1),\n",
        "                  (\"a\", np.ubyte, 1)])"
      ],
      "metadata": {
        "colab": {
          "base_uri": "https://localhost:8080/"
        },
        "id": "97DO098F9Ame",
        "outputId": "1fb430ec-d956-4a01-fddf-b314d0b73229"
      },
      "execution_count": 13,
      "outputs": [
        {
          "output_type": "stream",
          "name": "stderr",
          "text": [
            "/usr/local/lib/python3.7/dist-packages/ipykernel_launcher.py:4: FutureWarning: Passing (type, 1) or '1type' as a synonym of type is deprecated; in a future version of numpy, it will be understood as (type, (1,)) / '(1,)type'.\n",
            "  after removing the cwd from sys.path.\n"
          ]
        }
      ]
    },
    {
      "cell_type": "markdown",
      "source": [
        "### 24. Multiply a 5x3 matrix by a 3x2 matrix (real matrix product) (★☆☆)\n",
        "\n",
        "* np.dot은 numpy array를 곱할 때 사용한다."
      ],
      "metadata": {
        "id": "-09Hhqey8l3m"
      }
    },
    {
      "cell_type": "code",
      "source": [
        "a = np.dot(np.ones((5,3)), np.ones((3,2)))\n",
        "print(a)"
      ],
      "metadata": {
        "colab": {
          "base_uri": "https://localhost:8080/"
        },
        "id": "FqzwLoOD9A7-",
        "outputId": "f5b7c939-e608-47a9-b373-fae803a8fd25"
      },
      "execution_count": 14,
      "outputs": [
        {
          "output_type": "stream",
          "name": "stdout",
          "text": [
            "[[3. 3.]\n",
            " [3. 3.]\n",
            " [3. 3.]\n",
            " [3. 3.]\n",
            " [3. 3.]]\n"
          ]
        }
      ]
    },
    {
      "cell_type": "markdown",
      "source": [
        "### 25. Given a 1D array, negate all elements which are between 3 and 8, in place. (★☆☆)"
      ],
      "metadata": {
        "id": "EzDH1gbA84Nu"
      }
    },
    {
      "cell_type": "code",
      "source": [
        "a = np.arange(11)\n",
        "a[(3<a) & (a<8)] *= -1\n",
        "print(a)"
      ],
      "metadata": {
        "colab": {
          "base_uri": "https://localhost:8080/"
        },
        "id": "dMguBnM59BWS",
        "outputId": "e8f03e8e-3920-4b99-9a54-871c5f01e877"
      },
      "execution_count": 17,
      "outputs": [
        {
          "output_type": "stream",
          "name": "stdout",
          "text": [
            "[ 0  1  2  3 -4 -5 -6 -7  8  9 10]\n"
          ]
        }
      ]
    }
  ]
}